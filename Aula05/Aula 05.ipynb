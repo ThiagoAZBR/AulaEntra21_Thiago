{
 "cells": [
  {
   "cell_type": "markdown",
   "metadata": {},
   "source": [
    "---\n",
    "\n",
    "<h1><center>Variáveis Boobleans</h1></center>\n",
    "\n",
    "---"
   ]
  },
  {
   "cell_type": "markdown",
   "metadata": {},
   "source": [
    "Variáveis booleanas possuem 2 valores válidos<br>\n",
    "True (verdadeiro) e False (falso)\n",
    "\n",
    "O valor True pode ser substituido pelo valor 1<br>\n",
    "enquanto o False pode ser substituido pelo valor 0\n"
   ]
  },
  {
   "cell_type": "code",
   "execution_count": null,
   "metadata": {},
   "outputs": [],
   "source": [
    "# Exemplo de variável booleana\n",
    "\n",
    "entrada = True\n",
    "\n",
    "saida = False\n",
    "\n",
    "dineiro_banco = True\n",
    "\n",
    "saldavel = True"
   ]
  },
  {
   "cell_type": "markdown",
   "metadata": {},
   "source": [
    "Para fazer a conversão para booleano é utilizado a funão bool()"
   ]
  },
  {
   "cell_type": "code",
   "execution_count": null,
   "metadata": {},
   "outputs": [],
   "source": [
    "# Convertendo numero 1 para booleano\n",
    "var = 1\n",
    "var = bool(var)\n",
    "print(var)\n",
    "\n",
    "print(\"\\n\")\n",
    "\n",
    "# Convertendo numero 0 para booleano\n",
    "var = 0\n",
    "var = bool(var)\n",
    "print(var)"
   ]
  },
  {
   "cell_type": "markdown",
   "metadata": {},
   "source": [
    "Interesante é a conversão de variáveis para o booleano.<br>\n",
    "Variáveis None ou vazias resultam e False<br>\n",
    "enquanto variáveis com algum valor apresentam valor True"
   ]
  },
  {
   "cell_type": "code",
   "execution_count": null,
   "metadata": {},
   "outputs": [],
   "source": [
    "# Criando variáveis vazias\n",
    "inteiro = 0\n",
    "real = 0.0\n",
    "texto = \"\"\n",
    "\n",
    "\n",
    "print(type(inteiro),bool(inteiro))\n",
    "print(type(real),bool(real))\n",
    "print(type(texto),bool(texto))\n",
    "\n",
    "print(\"\\n\")\n",
    "\n",
    "# O None é um valor nulo. Não tem tipo e muito menos valor\n",
    "nulo = None\n",
    "\n",
    "print(type(nulo),bool(nulo))\n",
    "\n",
    "print(\"\\n\")\n",
    "\n",
    "# Convertendo variáveis com valor\n",
    "inteiro = 10\n",
    "real = -5.0\n",
    "texto = \"0\"\n",
    "\n",
    "\n",
    "print(type(inteiro),bool(inteiro))\n",
    "print(type(real),bool(real))\n",
    "print(type(texto),bool(texto))"
   ]
  },
  {
   "cell_type": "markdown",
   "metadata": {},
   "source": [
    "---\n",
    "\n",
    "<h1><center>Operadores de comparação</h1></center>\n",
    "\n",
    "---"
   ]
  },
  {
   "cell_type": "markdown",
   "metadata": {},
   "source": [
    "Os operadores comparam 2 variávei e retornam True ou False.<br>\n",
    "Eles são muito usados no laço condicional para determinar qual ação deve ser tomada.\n",
    "\n",
    "Existe 6 operadores de comparação:\n",
    "\n",
    "\\>     Maior<br>\n",
    "\\<     Menor<br>\n",
    "\\>\\=   Maior menor<br>\n",
    "\\<\\=   Menor igual<br>\n",
    "\\=\\=   igual (são 2 sinais de iguais)<br>\n",
    "\\!\\=   Difierente<br>\n",
    "\n",
    "Cuidado com o sinal de igual. É muito comum haver a confusão.<br>\n",
    "1 sial de igual é atribuição de valor para uma vairável.<br>\n",
    "Ex:<br>\n",
    "valor = 10\n",
    "\n",
    "\n",
    "2 siais de igual é a comparação se os 2 valores são iguais!<br>\n",
    "10 == 10 <br>\n",
    "True\n"
   ]
  },
  {
   "cell_type": "code",
   "execution_count": null,
   "metadata": {},
   "outputs": [],
   "source": [
    "# Exemplo de uso:\n",
    "\n",
    "numero = 10\n",
    "valor = 10\n",
    "dinheiro = 15\n",
    "nota = 9\n",
    "\n",
    "# Maior - Verifica se a primeira variável é maior que a segunda. \n",
    "print(\"Maior >\")\n",
    "print(\"nota (9) > valor (10)? \",nota > valor)\n",
    "print(\"valor (10) > nota (9)? \", valor > nota)\n",
    "print(\"numero (10) > valor (10)? \", numero > valor) # Note que 10 não é maior que 10 por isso será falso.\n",
    "\n",
    "print('\\n')\n",
    "\n",
    "# Maior igual - Verifica se a primeira variável é maior ou igual que a segunda. \n",
    "print(\"Maior igual >=\")\n",
    "print(\"nota (9) >= valor (10)? \",nota >= valor)\n",
    "print(\"valor (10) >= nota (9)? \", valor >= nota)\n",
    "print(\"numero (10) >= valor (10)? \", numero >= valor) # Note que agora o resultado é True.\n",
    "\n",
    "print('\\n')\n",
    "\n",
    "# Menor - Verifica se a primeira variável é menor que a segunda. \n",
    "print(\"Menor <\")\n",
    "print(\"nota (9) < valor (10)? \",nota < valor)\n",
    "print(\"valor (10) < nota (9)? \", valor < nota)\n",
    "print(\"numero (10) < valor (10)? \", numero < valor) # Note que 10 não é menor que 10 por isso será falso.\n",
    "\n",
    "print('\\n')\n",
    "\n",
    "# Menor igual - Verifica se a primeira variável é menor ou igual que a segunda. \n",
    "print(\"Menor igual <=\")\n",
    "print(\"nota (9) <= valor (10)? \",nota <= valor)\n",
    "print(\"valor (10) <= nota (9)? \", valor <= nota)\n",
    "print(\"numero (10) <= valor (10)? \", numero <= valor) # Note que agora o resultado é True.\n",
    "\n",
    "print('\\n')\n",
    "\n",
    "# Igual - Verifica se a primeira variável é igual à segunda. \n",
    "print(\"Igual ==\")\n",
    "print(\"nota (9) == valor (10)? \",nota == valor)\n",
    "print(\"valor (10) == nota (9)? \", valor == nota)\n",
    "print(\"numero (10) == valor (10)? \", numero == valor)\n",
    "\n",
    "print('\\n')\n",
    "\n",
    "# Diferente - Verifica se a primeira variável é diferente que a segunda. \n",
    "print(\"Diferente !=\")\n",
    "print(\"nota (9) != valor (10)? \",nota != valor)\n",
    "print(\"valor (10) != nota (9)? \", valor != nota)\n",
    "print(\"numero (10)!= valor (10)? \", numero != valor)\n",
    "\n",
    "print('\\n')\n"
   ]
  },
  {
   "cell_type": "markdown",
   "metadata": {},
   "source": [
    "Como saber a diferença ente maior e menor?\n",
    "\n",
    "É simples procure um 4 ou 7, olha só:\n",
    "\n",
    "Maior > é parecido com o número 7\n",
    "\n",
    "Menor < é parecido com o número 4"
   ]
  },
  {
   "cell_type": "markdown",
   "metadata": {},
   "source": [
    "---\n",
    "\n",
    "<h1><center>Laço condicional 1</h1></center>\n",
    "\n",
    "---\n",
    "Controle de Fluxo ou Estrutura de Decisão"
   ]
  },
  {
   "cell_type": "markdown",
   "metadata": {},
   "source": [
    "O controle de fluxo serve para orientar o programa a executar um código especifico dependendo da condição.\n",
    "\n",
    "No Python existe só um (if), sendo assim muito mais simples de se trabalhar.\n",
    "\n",
    "O \"if\" pode ser tradusido como \"se\"<br>\n",
    "se for menor que 10 anos deve usar cadeirinha.<br>\n",
    "se bebeu, não dirija.\n",
    "\n",
    "O if terá a seguinte estrutura:<br>\n",
    "\n",
    "if <condição>:<br>\n",
    "....<ação se for verdadeiro><br>\n",
    "else:<br>\n",
    "....<ação se for falso>\n",
    "\n",
    "\n",
    "Os quatro pontinhos significa a identação. Ela é importante para determiar até aonde vai o código dentro do if.<br>\n",
    "Se você sair desta identação o python irá entender que o if terminou.\n",
    "\n",
    "O else irá executar somente se a <condição> for falsa. Só pode ter um else em cada if!\n"
   ]
  },
  {
   "cell_type": "code",
   "execution_count": null,
   "metadata": {},
   "outputs": [],
   "source": [
    "#Exemplo 1:\n",
    "\n",
    "# Faça um programa que peça 1 número e se este for maior que 10 mostre uma mensagem \"Numero maior que 10\",\n",
    "# se for menor que 10 apareça a mensagem \"Numero menor que 10\"\n",
    "\n",
    "numero = int(input(\"Digite um número: \"))\n",
    "\n",
    "if numero > 10: # Note que usamos os operadores de comparação para determinar a condição.\n",
    "    print(\"Numero maior que 10\") # Os quatro espaços da identação\n",
    "else: # este else só irá execurar se o número for menor.\n",
    "    print(\"Numero menor que 10\")\n",
    "\n",
    "print(\"Não estou identado enão estou fora do if!\")"
   ]
  },
  {
   "cell_type": "code",
   "execution_count": null,
   "metadata": {},
   "outputs": [],
   "source": [
    "# Exemplo 2:\n",
    "# Crie um programa que pessa uma senha para o usuário\n",
    "# A senha deve ser AbrAcAdAbrA\n",
    "# Se a senha for correta deve aparecer a mensagem: \"Seja bem vindo\"\n",
    "# Se a senha for falsa, deve aparecer a mensagem: \"Senha incorreta!\"\n",
    "\n",
    "senha_secreta = \"AbrAcAdAbrA\"\n",
    "\n",
    "senha = input(\"Digite a sua senha: \")\n",
    "\n",
    "if senha_secreta == senha:\n",
    "    print(\"Seja bem vindo\")\n",
    "else:\n",
    "    print(\"Senha incorreta!\")"
   ]
  },
  {
   "cell_type": "code",
   "execution_count": null,
   "metadata": {},
   "outputs": [],
   "source": [
    "# Exemplo 3:\n",
    "# Crie um programa que calcule a função \"f = 3/x\"\n",
    "# Peça ao usuário que digite o valor de x\n",
    "# Se o valor de x for igual a zero, o programa mostrará somente a mensagem final.\n",
    "# Se x for diferente que zero, o programa fará a conta e mostrará o resultado.\n",
    "\n",
    "x = int(input(\"Digite o valor de x: \"))\n",
    "\n",
    "if x != 0:\n",
    "    f = 3/x\n",
    "    print(\"O resultado é: \", f)\n",
    "\n",
    "    # Note que não possui else. Nem sempre o else é necessário.\n",
    "\n",
    "print(\"Fim do programa\") # note que neste print não tem identação. Então ele não faz parte do input\n",
    "\n",
    "\n"
   ]
  },
  {
   "cell_type": "markdown",
   "metadata": {},
   "source": [
    "<h1><b>Exercicio 1</b></h1>\n",
    "\n",
    "Faça um programa que peça 2 numeros inteiros e mostre o maior deles.\n",
    "\n"
   ]
  },
  {
   "cell_type": "code",
   "execution_count": null,
   "metadata": {},
   "outputs": [],
   "source": []
  },
  {
   "cell_type": "markdown",
   "metadata": {},
   "source": [
    "<h1><b>Exercicio 2</b></h1>\n",
    "Faça um programa que peça um número.\n",
    "\n",
    "Mostre na tela se este número é negativo ou positivo. (lembrando que números positivos são maiores que zero!)"
   ]
  },
  {
   "cell_type": "code",
   "execution_count": null,
   "metadata": {},
   "outputs": [],
   "source": []
  },
  {
   "cell_type": "markdown",
   "metadata": {},
   "source": [
    "<h1><b>Exercicio 3</b></h1>\n",
    "Faça um programa que peça a idade do cliente.\n",
    "\n",
    "Se ele tiver 18 anos ou mais deve aparecer a mensagem \"Entrada permitida\"\n",
    "\n",
    "Caso contrário deve aparecer a mensagem \"Entrada Negada!\""
   ]
  },
  {
   "cell_type": "code",
   "execution_count": null,
   "metadata": {},
   "outputs": [],
   "source": []
  },
  {
   "cell_type": "markdown",
   "metadata": {},
   "source": [
    "<h1><b>Exercicio 4</b></h1>\n",
    "Escreva um programa que peça a nota de um aluno\n",
    "\n",
    "Se a nota for 7 ou mais deve aparecer a mensagem: \"Aprovado\"\n",
    "\n",
    "Caso contrário deve aparecer a mensagem: \"Reprovado\""
   ]
  },
  {
   "cell_type": "code",
   "execution_count": null,
   "metadata": {},
   "outputs": [],
   "source": []
  },
  {
   "cell_type": "markdown",
   "metadata": {},
   "source": [
    "<h1><b>Exercicio 5</b></h1>\n",
    "Faça um programa que peça uma senha ao usuário.\n",
    "\n",
    "Se a senha for igual a \"Abacaxi\" deve aparecer a mensagem \"Entrada liberada\"\n",
    "\n",
    "Caso contrário deve aparecer a mensagem \"Senha incorreta\""
   ]
  },
  {
   "cell_type": "code",
   "execution_count": null,
   "metadata": {},
   "outputs": [],
   "source": []
  },
  {
   "cell_type": "markdown",
   "metadata": {},
   "source": [
    "<h1><b>Exercicio 6</b></h1>\n",
    "Escreva um programa que peça 2 números e mostre eles em ordem crescente"
   ]
  },
  {
   "cell_type": "code",
   "execution_count": null,
   "metadata": {},
   "outputs": [],
   "source": []
  },
  {
   "cell_type": "markdown",
   "metadata": {},
   "source": [
    "<h1><b>Exercicio 7</b></h1>\n",
    "Faça um programa que peça 3 números inteiros e mostre o menor número."
   ]
  },
  {
   "cell_type": "code",
   "execution_count": null,
   "metadata": {},
   "outputs": [],
   "source": []
  },
  {
   "cell_type": "markdown",
   "metadata": {},
   "source": [
    "<h1><b>Exercicio 8</b></h1>\n",
    "Faça um programa que peça 3 números inteiros e mostre o número maior."
   ]
  },
  {
   "cell_type": "code",
   "execution_count": null,
   "metadata": {},
   "outputs": [],
   "source": []
  },
  {
   "cell_type": "markdown",
   "metadata": {},
   "source": [
    "<h1><b>Exercicio 9</b></h1>\n",
    "Faça um programa que peça 3 números inteiros e mostre o os tês em ordem crescente.\n",
    "\n"
   ]
  },
  {
   "cell_type": "code",
   "execution_count": null,
   "metadata": {},
   "outputs": [],
   "source": []
  },
  {
   "cell_type": "markdown",
   "metadata": {},
   "source": [
    "<h1><b>Exercicio 10</b></h1>\n",
    "Faça um programa que peça 3 números inteiros e mostre o os tês em ordem decrescente.\n"
   ]
  },
  {
   "cell_type": "code",
   "execution_count": null,
   "metadata": {},
   "outputs": [],
   "source": []
  },
  {
   "cell_type": "markdown",
   "metadata": {},
   "source": [
    "---\n",
    "\n",
    "<h1><center>Laço condicional 2</h1></center>\n",
    "\n",
    "---\n",
    "Laço condicional aninhado"
   ]
  },
  {
   "cell_type": "markdown",
   "metadata": {},
   "source": [
    "As vezes necesitamos mais condições para o mesmo problema.\n",
    "\n",
    "Para isso existe 1 solução o \"elif\"\n",
    "\n",
    "O elif fica aninhado (dentro) do if e é executado somente se a sua condição for verdadeira.<br>\n",
    "\n",
    "if <condição1>:\n",
    "....<ação>\n",
    "elif <condição2>:\n",
    "....<ação>\n",
    "else:\n",
    "....<ação se falso>\n",
    "\n",
    "Pode se adicionado quantos elif forem necessário dentro do if. Só lembrando que cada if só pode ter um else!\n",
    "\n",
    "if <condição1>:\n",
    "....<ação>\n",
    "elif <condição2>:\n",
    "....<ação>\n",
    "elif <condição3>:\n",
    "....<ação>\n",
    "elif <condição4>:\n",
    "....<ação>\n",
    "else:\n",
    "....<ação se falso>\n"
   ]
  },
  {
   "cell_type": "code",
   "execution_count": null,
   "metadata": {},
   "outputs": [],
   "source": [
    "# Exemplo 1:\n",
    "# Faça um programa que peça a classe de embarque de uma compania aéria.\n",
    "# As opções são A, B e C\n",
    "# Se o cliente digitar A deve aparecer a seguinte mendagem: \"Primeira classe, caviar liberado!\"\n",
    "# Se o cliente digitar B deve aparecer a seguinte mendagem: \"Segunda classe, Café e almoço liberado\"\n",
    "# Se o cliente digitar C deve aparecer a seguinte mendagem: \n",
    "# \"Terceira classe, pacotinho de bolacha 10g por pessoa liberado\"\n",
    "# Caso digite qualquer coisa deve aparecer a seguinte mendagem: \"Opção inválida\"\n",
    "\n",
    "passagem = input(\"Digite a classe de embarque A,B ou C?: \")\n",
    "\n",
    "if passagem == \"A\":\n",
    "    print(\"Primeira classe, caviar liberado!\")\n",
    "elif passagem == \"B\":\n",
    "    print(\"Segunda classe, Café e almoço liberado\")\n",
    "elif passagem == \"C\":\n",
    "    print(\"Terceira classe, pacotinho de bolacha 10g por pessoa liberado\")\n",
    "else:\n",
    "    print(\"Opção inválida\")\n",
    "    \n",
    "# Note que ao ser selecionado uma condição o laço condicional termina."
   ]
  },
  {
   "cell_type": "code",
   "execution_count": 13,
   "metadata": {},
   "outputs": [
    {
     "ename": "SyntaxError",
     "evalue": "invalid syntax (<ipython-input-13-c6cb41eeaab3>, line 19)",
     "output_type": "error",
     "traceback": [
      "\u001b[0;36m  File \u001b[0;32m\"<ipython-input-13-c6cb41eeaab3>\"\u001b[0;36m, line \u001b[0;32m19\u001b[0m\n\u001b[0;31m    if opcao = '1':\u001b[0m\n\u001b[0m             ^\u001b[0m\n\u001b[0;31mSyntaxError\u001b[0m\u001b[0;31m:\u001b[0m invalid syntax\n"
     ]
    }
   ],
   "source": [
    "# Exemplo 2:\n",
    "# Faça um menu interativo que possua 3 opções: Prato feito, Fejoada, Macarronada\n",
    "# Peça para o usuário digitar a opção desejada.\n",
    "# Se ele escolher Prato Feito deve aparecer a seguinte mensage: \"1 Prato feito saindo em 15 minutos\"\n",
    "# Se ele escolher Fejoada deve aparecer a seguinte mensage: \"1 Fejoada saindo em 30 minutos\"\n",
    "# Se ele escolher Macarronada deve aparecer a seguinte mensage: \"1 Macarronada saindo em 10 minutos\"\n",
    "\n",
    "mensagem = '''\n",
    "Cardapio do dia:]\n",
    "\n",
    "1) Prato feito\n",
    "2) Fejoada\n",
    "3) Macarronada\n",
    "\n",
    "Digite a opção desejada: '''\n",
    "\n",
    "opcao = input(mensagem)\n",
    "\n",
    "if opcao == '1':\n",
    "    print(\"1 Prato feito saindo em 15 minutos\")\n",
    "elif opcao == '2':\n",
    "    print(\"1 Fejoada saindo em 30 minutos\")\n",
    "elif opcao == '3':\n",
    "    print(\"1 Macarronada saindo em 10 minutos\")\n",
    "else:\n",
    "    print(\"Opção invalida\")"
   ]
  },
  {
   "cell_type": "markdown",
   "metadata": {},
   "source": [
    "<h1><b>Exercicio 11</b></h1>\n",
    "Faça um programa que peça o sexo do cliente. \n",
    "\n",
    "Se o cliente digitar 'F' deve aparecer a mensagem \"Como você está bonita hoje!\"\n",
    "\n",
    "Se o cliente digitar 'M' deve aparecer a mensagem \"Como você está forte? andou malhando?\"\n",
    "\n",
    "Se o cliente digitar qualquer outra coisa, deve aparecer a mensagem: \"opção invalida!\"\n"
   ]
  },
  {
   "cell_type": "code",
   "execution_count": null,
   "metadata": {},
   "outputs": [],
   "source": []
  },
  {
   "cell_type": "markdown",
   "metadata": {},
   "source": [
    "<h1><b>Exercicio 12</b></h1>\n",
    "\n",
    "Crie um programa que peça 2 números.\n",
    "\n",
    "Depois mostre um menu interativo contendo 5 operações matemáticas do python\n",
    "<br>(adição, subtração, multiplicação, divisão e expoente)\n",
    "\n",
    "Peça para o usuário escolher uma destas opções e mostre o resultado da operação escolhida."
   ]
  },
  {
   "cell_type": "code",
   "execution_count": null,
   "metadata": {},
   "outputs": [],
   "source": []
  },
  {
   "cell_type": "markdown",
   "metadata": {},
   "source": [
    "<h1><b>Exercicio 13</b></h1>\n",
    "\n",
    "Crie um programa que peça o nome do cliente, idade, endereço, email e telefone.\n",
    "\n",
    "Depois crie um menu interativo com as seguintes opções: Dados, Endereço, Contato.\n",
    "\n",
    "Se o usuário selecionar \"Dados\" deve aparecer o nome do cliente e a idade\n",
    "\n",
    "Se o usuário selecionar \"Endereço\" deve aparecer o nome do cliente e o endereço\n",
    "\n",
    "Se o usuário selecionar \"Contato\" deve aparecer o nome do cliente, email e o telefone"
   ]
  },
  {
   "cell_type": "code",
   "execution_count": null,
   "metadata": {},
   "outputs": [],
   "source": []
  },
  {
   "cell_type": "markdown",
   "metadata": {},
   "source": [
    "<h1><b>Exercicio 14</b></h1>\n",
    "Crie um programa que peça ao usuário digitar um número de 1 a 7 e mostre o dia da semana correspondente sendo que segunda feira é o numero 1 e domingo é 7."
   ]
  },
  {
   "cell_type": "code",
   "execution_count": null,
   "metadata": {},
   "outputs": [],
   "source": []
  },
  {
   "cell_type": "markdown",
   "metadata": {},
   "source": [
    "<h1><b>Exercicio 15</b></h1>\n",
    "Crie um programa que peça ao usuário que digite um número de 1 a 12 e mostre o mês correspondente ao número.\n"
   ]
  },
  {
   "cell_type": "code",
   "execution_count": null,
   "metadata": {},
   "outputs": [],
   "source": []
  },
  {
   "cell_type": "markdown",
   "metadata": {},
   "source": [
    "<h1><b>Exercicio 16</b></h1>\n",
    "\n",
    "Crie um programa para uma promoção de um posto de combustivel.\n",
    "\n",
    "O programa deve pedir ao usuário quantos litros ele quer abastecer e qual combustivel: álcool, diessel ou gasolina\n",
    "\n",
    "A promoção é a seguinte:\n",
    " - Para gasolina: Até 20 litros 0% de desconto e acima de 20 litros 10% de desconto\n",
    " - Para diessel: Até 10 litro 1.5% de desconto e acima de 10 litros 5% de desconto\n",
    " - para álcool: Até 10 litros 5% de desconto e acima de 10 litros 10% de desconto.\n",
    " \n",
    "Mostre o combustivel que ele selecionou, o total abastecido e a porcentagem de desconto a ser aplicada.\n",
    "\n",
    "Não precisa calcular o valor do combustivel!\n"
   ]
  },
  {
   "cell_type": "code",
   "execution_count": null,
   "metadata": {},
   "outputs": [],
   "source": []
  },
  {
   "cell_type": "markdown",
   "metadata": {},
   "source": [
    "<h1><b>Exercicio 17</b></h1>\n",
    "crie um programa que peça 4 notas de um aluno e calcule a média \"(nota1+nota2+nota3+nota4)/4\" e retorne:\n",
    "\n",
    "Pra média igual a 10 apareça a mensagem \"Aprovado com louvor\"\n",
    "Pra média maior igual a 7 apareça a mensagem \"Aprovado\"\n",
    "Pra média menor que 7 apareça a mensagem \"Reprovado\"\n"
   ]
  },
  {
   "cell_type": "code",
   "execution_count": null,
   "metadata": {},
   "outputs": [],
   "source": []
  },
  {
   "cell_type": "markdown",
   "metadata": {},
   "source": [
    "<h1><b>Exercicio 18</b></h1>\n",
    "Peça para o usuário digitar os valores de a, b e c\n",
    "\n",
    "Calcule o delta \"delta = (b**2)-(4*a*c)\"\n",
    "\n",
    "Se o delta der negativo, então deve aparecer a seguinte mensagem: \"Delta negativo! Equação não pode ser resolvida!\"\n",
    "\n",
    "Se o delta der igual a zero, então deve aparecer a seguinte mensagem: \"Delta igual a zero!\"\n",
    "\n",
    "Se o delta der positivo, então deve aparecer a seguinte mensagem: \"A equação pode ser resolvida!\""
   ]
  },
  {
   "cell_type": "code",
   "execution_count": null,
   "metadata": {},
   "outputs": [],
   "source": []
  },
  {
   "cell_type": "markdown",
   "metadata": {},
   "source": [
    "<h1><b>Exercicio 19</b></h1>\n",
    "Faça um programa para calcular a fórmula do bhaskara para equação de segundo grau: ax²+bx+c\n",
    "\n",
    "Peça para o usuário digitar os valores de a, b e c\n",
    "\n",
    "Calcule o delta \"delta = (b\\*\\*2)-(4\\*a\\*c)\"\n",
    "\n",
    "Se o delta der negativo, então deve aparecer a seguinte mensagem: \"Delta negativo! Equação não pode ser resolvida!\"\n",
    "\n",
    "Se o delta for igual a zero, use esta fórmula \"x=-b/(2\\*a)\" e mostre o valor de x\n",
    "\n",
    "Se delta for maior que zero, então use estas 2 fórmulas \"x =(-b+(delta\\*\\*(1/2)))/(2\\*a)\" e \"x2=(-b-(delta\\*\\*(1/2)))/(2\\*a)\"\n",
    "e mostre o os valores de x1 e x2  \n",
    "    \n",
    "    \n",
    "________________\n",
    "Nota: <br>\n",
    "Para testar se seu programa está certo use estes valores para a, b e c<br>\n",
    "delta negativo a=1, b=1, c=1<br>\n",
    "delta zero a=1, b=2, c=1<br>\n",
    "delta positivo a=1, b=4, c=1<br>"
   ]
  },
  {
   "cell_type": "code",
   "execution_count": null,
   "metadata": {},
   "outputs": [],
   "source": []
  }
 ],
 "metadata": {
  "kernelspec": {
   "display_name": "Python 3",
   "language": "python",
   "name": "python3"
  },
  "language_info": {
   "codemirror_mode": {
    "name": "ipython",
    "version": 3
   },
   "file_extension": ".py",
   "mimetype": "text/x-python",
   "name": "python",
   "nbconvert_exporter": "python",
   "pygments_lexer": "ipython3",
   "version": "3.7.3"
  }
 },
 "nbformat": 4,
 "nbformat_minor": 2
}
